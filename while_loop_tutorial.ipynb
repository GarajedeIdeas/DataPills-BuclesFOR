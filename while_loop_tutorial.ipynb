{
 "cells": [
  {
   "cell_type": "markdown",
   "id": "20928c73-6ab4-473c-8df4-2506c50384ba",
   "metadata": {
    "tags": []
   },
   "source": [
    "# Bucles\n",
    "\n",
    "Los bucles son una de las estructuras sintácticas más utilizadas en cualquier lenguaje de programación. \n",
    "\n",
    "Sirven para alterar el flujo normal de ejecución de un programa, permitiéndonos repetir una porción de código tantas veces como queramos. \n",
    "\n",
    "Python incluye únicamente dos tipos de bucles: **bucle while** y **bucle for**. "
   ]
  },
  {
   "cell_type": "markdown",
   "id": "f8ce6166-fe43-4554-8016-e9ca1cfd3c2d",
   "metadata": {
    "tags": []
   },
   "source": [
    "## Bucle While\n",
    "El bucle **while** permite repetir la ejecución de un grupo de instrucciones mientras se cumpla una condición. "
   ]
  },
  {
   "cell_type": "code",
   "execution_count": null,
   "id": "4375e74a-2e71-408f-9db7-40af6726c853",
   "metadata": {},
   "outputs": [],
   "source": [
    "# La sintaxis básica es:\n",
    "while condición:\n",
    "    \n",
    "    cuerpo del buble # Hacer algo"
   ]
  },
  {
   "cell_type": "markdown",
   "id": "66279c92-bc9b-4141-9da9-442682d24296",
   "metadata": {},
   "source": [
    "La variables de control debe definirse antes del bucle while y modificarse en el bucle while."
   ]
  },
  {
   "cell_type": "code",
   "execution_count": 43,
   "id": "57d10ad7-00ef-47e6-8268-923e918f5d27",
   "metadata": {
    "tags": []
   },
   "outputs": [
    {
     "name": "stdout",
     "output_type": "stream",
     "text": [
      "La temperatura es 10 grados. El agua aún no está en su punto\n",
      "La temperatura es 20 grados. El agua aún no está en su punto\n",
      "La temperatura es 30 grados. El agua aún no está en su punto\n",
      "La temperatura es 40 grados. El agua aún no está en su punto\n",
      "La temperatura es 50 grados. El agua aún no está en su punto\n",
      "La temperatura es 60 grados. El agua aún no está en su punto\n",
      "La temperatura es 70 grados. El agua aún no está en su punto\n",
      "La temperatura es 80 grados. El agua aún no está en su punto\n",
      "La temperatura es 90 grados. El agua aún no está en su punto\n"
     ]
    }
   ],
   "source": [
    "# Vamos a simular el funcionamiento de una kettle\n",
    "temperatura = 10\n",
    "while temperatura < 100:\n",
    "    print('La temperatura es {} grados. El agua aún no está en su punto'.format(temperatura))\n",
    "    temperatura = temperatura + 10 #Esto es lo mismo que poner: temperatura += 10\n",
    "\n",
    "    "
   ]
  },
  {
   "cell_type": "markdown",
   "id": "684b76e3-d3c5-4364-a9a2-1d86c459c9df",
   "metadata": {},
   "source": [
    "Otra ventaja del bucle while es que el número de iteraciones puede no estar definida antes de iniciar el buble. \n",
    "\n",
    "Esto puede ocurrir cuando es el usuario el que proporciona en cada iteración la variable de control. Por ejemplo, imaginemos cómo sería el código para hacer un login aportando la contraseña"
   ]
  },
  {
   "cell_type": "code",
   "execution_count": 44,
   "id": "14b10755-b78f-41ea-a6b4-e8ceb474ebbc",
   "metadata": {
    "tags": []
   },
   "outputs": [
    {
     "name": "stdin",
     "output_type": "stream",
     "text": [
      "Introduzca su contraseña pepito\n"
     ]
    },
    {
     "name": "stdout",
     "output_type": "stream",
     "text": [
      "Contraseña incorrecta. Inténtelo de nuevo\n"
     ]
    },
    {
     "name": "stdin",
     "output_type": "stream",
     "text": [
      "Introduzca una nueva contraseña pedrito\n"
     ]
    },
    {
     "name": "stdout",
     "output_type": "stream",
     "text": [
      "Contraseña incorrecta. Inténtelo de nuevo\n"
     ]
    },
    {
     "name": "stdin",
     "output_type": "stream",
     "text": [
      "Introduzca una nueva contraseña gati_2010\n"
     ]
    },
    {
     "name": "stdout",
     "output_type": "stream",
     "text": [
      "Contraseña correcta. Bienvenida\n"
     ]
    }
   ],
   "source": [
    "password = 'gati_2010'\n",
    "contraseña = input('Introduzca su contraseña')\n",
    "\n",
    "while contraseña != password:\n",
    "    \n",
    "    print('Contraseña incorrecta. Inténtelo de nuevo')\n",
    "    contraseña = input('Introduzca una nueva contraseña')\n",
    "    \n",
    "print('Contraseña correcta. Bienvenida')"
   ]
  },
  {
   "cell_type": "markdown",
   "id": "bd00ac54-a9fc-47d5-9288-8ae14bf5e1be",
   "metadata": {},
   "source": [
    "## Bucles infinitos"
   ]
  },
  {
   "cell_type": "markdown",
   "id": "e8d86189-7fb2-44c6-87b1-0ccd47566d01",
   "metadata": {},
   "source": [
    "Si la condición del bucle se cumple siempre, el bucle entrará en una espiral de la que no podrá salir nunca. Normalmente, este comportamiento no es el esperado. Por eso, es MUY IMPORTANTE asegurarnos de que en el cuerpo de buble hay un mecanismo para que Python pueda salir del bucle en algún momento."
   ]
  },
  {
   "cell_type": "code",
   "execution_count": 46,
   "id": "94540273-1ea9-4f09-b0d5-dd931654aeec",
   "metadata": {
    "tags": []
   },
   "outputs": [
    {
     "name": "stdout",
     "output_type": "stream",
     "text": [
      "La temperatura es 10 grados. El agua aún no está en su punto\n",
      "La temperatura es 20 grados. El agua aún no está en su punto\n",
      "La temperatura es 30 grados. El agua aún no está en su punto\n",
      "La temperatura es 40 grados. El agua aún no está en su punto\n",
      "La temperatura es 50 grados. El agua aún no está en su punto\n",
      "La temperatura es 60 grados. El agua aún no está en su punto\n",
      "La temperatura es 70 grados. El agua aún no está en su punto\n",
      "La temperatura es 80 grados. El agua aún no está en su punto\n",
      "La temperatura es 90 grados. El agua aún no está en su punto\n"
     ]
    }
   ],
   "source": [
    "# Vamos a simular el funcionamiento de una kettle\n",
    "temperatura = 10\n",
    "\n",
    "while temperatura < 100:\n",
    "    \n",
    "    print('La temperatura es {} grados. El agua aún no está en su punto'.format(temperatura))\n",
    "    temperatura += 10\n"
   ]
  },
  {
   "cell_type": "code",
   "execution_count": null,
   "id": "3cedf291-d20f-4fe9-afeb-592ebf05bd54",
   "metadata": {},
   "outputs": [],
   "source": []
  },
  {
   "cell_type": "markdown",
   "id": "6e6ac6ba-e62e-42f3-b806-081f0ae4ac3d",
   "metadata": {},
   "source": [
    "### Los operadores continue y break\n",
    "\n",
    "Por defecto, el bucle while no terminará de ejecutarse hasta que se cumpla la condición\n",
    "\n",
    "Sin embargo, existen dos operadores que nos van a permitir cambiar el comportamiento del bucle.\n",
    "\n",
    "1) **break** permite interrumpir un bucle cuando se dé una condición.\n",
    "2) **continue** permite saltar a la siguiente iteración cuando se dé una condición\n"
   ]
  },
  {
   "cell_type": "code",
   "execution_count": 48,
   "id": "0986bcf8-9f96-4e15-9c89-e1b1584b0f6c",
   "metadata": {
    "scrolled": true,
    "tags": []
   },
   "outputs": [
    {
     "name": "stdin",
     "output_type": "stream",
     "text": [
      "Introduzca su contraseña sdgd\n"
     ]
    },
    {
     "name": "stdout",
     "output_type": "stream",
     "text": [
      "Contraseña incorrecta\n"
     ]
    },
    {
     "name": "stdin",
     "output_type": "stream",
     "text": [
      "Introduzca una nueva contraseña dsg\n"
     ]
    },
    {
     "name": "stdout",
     "output_type": "stream",
     "text": [
      "Contraseña incorrecta\n"
     ]
    },
    {
     "name": "stdin",
     "output_type": "stream",
     "text": [
      "Introduzca una nueva contraseña gati_2010\n"
     ]
    },
    {
     "name": "stdout",
     "output_type": "stream",
     "text": [
      "Contraseña correcta. Bienvenida\n"
     ]
    }
   ],
   "source": [
    "# Ejemplo break\n",
    "\n",
    "password = 'gati_2010'\n",
    "intentos = 1\n",
    "contraseña = input('Introduzca su contraseña')\n",
    "\n",
    "while contraseña != password:\n",
    "    \n",
    "    print('Contraseña incorrecta')\n",
    "    intentos += 1 \n",
    "    \n",
    "    if intentos > 4:\n",
    "        break\n",
    "    contraseña = input('Introduzca una nueva contraseña')\n",
    "    \n",
    "\n",
    "if intentos >4:\n",
    "    print ('Lo sentimos, hemos suspendido temporalmente el accesso a su cuenta por motivos de seguridad')\n",
    "else:\n",
    "    print('Contraseña correcta. Bienvenida')\n"
   ]
  },
  {
   "cell_type": "markdown",
   "id": "5353eeff-ae8f-4087-a43f-f82d370dbf9b",
   "metadata": {},
   "source": [
    "Vamos con un ejemplo con **continue**:"
   ]
  },
  {
   "cell_type": "code",
   "execution_count": 50,
   "id": "bea7f781-3d79-4130-a630-7846b59e1aea",
   "metadata": {
    "tags": []
   },
   "outputs": [
    {
     "name": "stdout",
     "output_type": "stream",
     "text": [
      "La temperatura es 50 grados\n",
      "La temperatura es 60 grados\n",
      "La temperatura es 70 grados\n",
      "La temperatura es 80 grados\n",
      "La temperatura es 90 grados\n",
      "La temperatura es 100 grados\n",
      "El agua está lista\n"
     ]
    }
   ],
   "source": [
    "# Ejemplo continue\n",
    "\n",
    "temperatura = 10\n",
    "while temperatura < 100:\n",
    "    \n",
    "    temperatura += 10 # Esto es lo mismo que poner: temperatura = temperatura + 10\n",
    "    if temperatura < 50:\n",
    "        continue\n",
    "    else:\n",
    "        print('La temperatura es {} grados'.format(temperatura))\n",
    "        \n",
    "print('El agua está lista')\n",
    "    "
   ]
  },
  {
   "cell_type": "code",
   "execution_count": null,
   "id": "8b7b5f14-f06c-4722-ab88-b579c6068cc1",
   "metadata": {},
   "outputs": [],
   "source": []
  }
 ],
 "metadata": {
  "kernelspec": {
   "display_name": "Python 3 (ipykernel)",
   "language": "python",
   "name": "python3"
  },
  "language_info": {
   "codemirror_mode": {
    "name": "ipython",
    "version": 3
   },
   "file_extension": ".py",
   "mimetype": "text/x-python",
   "name": "python",
   "nbconvert_exporter": "python",
   "pygments_lexer": "ipython3",
   "version": "3.10.11"
  }
 },
 "nbformat": 4,
 "nbformat_minor": 5
}
